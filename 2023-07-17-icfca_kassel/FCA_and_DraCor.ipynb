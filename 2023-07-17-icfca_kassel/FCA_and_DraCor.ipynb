{
 "cells": [
  {
   "cell_type": "markdown",
   "id": "f83446d9",
   "metadata": {},
   "source": [
    "# [FCA & DraCor](https://slides.igada.de/2023-07-17-icfca_kassel/FCA_and_DraCor.ipynb)\n",
    "\n",
    "[Robert Jäschke](https://amor.cms.hu-berlin.de/~jaeschkr/)\n",
    "\n",
    "Humboldt-Universität zu Berlin & L3S Research Center Hannover (Germany)\n",
    "\n",
    "July 17, 2023\n",
    "\n",
    "\n",
    "<br/><p style=\"font-size:0.75em;\">\n",
    "<a rel=\"license\"\n",
    "href=\"http://creativecommons.org/licenses/by/4.0/\"><img alt=\"Creative\n",
    "Commons License\" style=\"border-width:0\"\n",
    "src=\"https://i.creativecommons.org/l/by/4.0/88x31.png\" /></a> <br/>\n",
    "This work is licensed under a <a rel=\"license\" href=\"http://creativecommons.org/licenses/by/4.0/\">Creative Commons Attribution 4.0 International License</a>.\n",
    "</p>"
   ]
  },
  {
   "cell_type": "markdown",
   "id": "ea455548",
   "metadata": {},
   "source": [
    "# Agenda\n",
    "\n",
    "1. Background\n",
    "2. Mathematics meets Digital Humanities\n",
    "3. DraCor meets FCA \n",
    "4. FCA meets the 70s"
   ]
  },
  {
   "cell_type": "markdown",
   "id": "56ca6499",
   "metadata": {},
   "source": [
    "# 1. Background"
   ]
  },
  {
   "cell_type": "markdown",
   "id": "8706fcc4",
   "metadata": {},
   "source": [
    "![my career](https://slides.igada.de/2020-02-25-ub_frankfurt/images/antrittsvorlesung.png)"
   ]
  },
  {
   "cell_type": "markdown",
   "id": "a5a99a21",
   "metadata": {},
   "source": [
    "![notebook repos](https://slides.igada.de/2023-07-17-icfca_kassel/notebooks_repo.png)\n",
    "\n",
    "https://scm.cms.hu-berlin.de/explore/projects/topics/jupyter"
   ]
  },
  {
   "cell_type": "markdown",
   "id": "5ca632a1",
   "metadata": {},
   "source": [
    "- learning Python: https://greenteapress.com/thinkpython2/\n",
    "- learning statistics: https://greenteapress.com/thinkstats2/\n",
    "- distance learning: interactive notebooks for self-studying\n",
    "- *computational essays* as assessment (examples: https://uio-ccse.github.io/computational-essay-showroom/)\n",
    "- collection of notebooks with many different examples: https://scm.cms.hu-berlin.de/ibi/notebooks"
   ]
  },
  {
   "cell_type": "markdown",
   "id": "fe76d219",
   "metadata": {},
   "source": [
    "![AI-SKILLS project logo](https://ai-skills.hu-berlin.de/images/logo/logo-netzwerk.png)\n",
    "\n",
    "[Anwendungsorientierte Infrastruktur für KI-Communities in Lehr-Lern-Settings](https://ai-skills.hu-berlin.de/)"
   ]
  },
  {
   "cell_type": "markdown",
   "id": "256954ca",
   "metadata": {},
   "source": [
    "# 2. Mathematics meets Digital Humanities"
   ]
  },
  {
   "cell_type": "markdown",
   "id": "d82dfe5c",
   "metadata": {},
   "source": [
    "```\n",
    "From: Dennis Mischke <mischke@ada.fu-berlin.de>\n",
    "To: DHBerlin@bbaw.de\n",
    "Date: Fri, 19 Aug 2022 13:24:36 +0200\n",
    "Subject: [DH-Berlin] Einladung zum DiHMa.LAB | MaRDi „Digital Humanities meet Mathematics“ am 20.09. & 21.09.\n",
    "\n",
    "Liebe Kolleginnen und Kollegen, Liebe DHBerlin-Liste,\n",
    "\n",
    "Das DiHMA.LAB “Digital Humanities meet Mathematics” des »ADA Lovelace Centers for Digital Humanties« der FU Berlin lädt gemeinsam mit MaRDI, der Forschungsdateninitiative der Mathematik, zu einem Workshop in Berlin ein.\n",
    "\n",
    "„Digital Humanities meet Mathematics“\n",
    "20.09.2022 - 21.09.2022 13 - 18 Uhr & 9-13 Uhr\n",
    "\n",
    "Mit digitalen Methoden entwickelte Forschungsfragen aus Philosophie, sowie den Geistes-, Kultur- und Geschichtswissenschaften sind komplex. Die Herangehensweise an die Beantwortung der Fragen setzt oft eine sorgfältige Planung des Forschungsprozesses voraus, die auch die Auswahl der zu untersuchenden Objekte beinhaltet. Auf verschiedenen Ebenen (Aussagenlogik, Experimental - und Forschungsdesign, Operationalisierung, Mustererkennung, Graphentheorie ...) tangieren die Planungen und Durchführungen Themen, die auch in der modernen Mathematik zu verorten sind. Es ist daher wichtig, eine Kommunikationsform zur Mathematik zu finden, die es für Nicht-Mathematiker:innen erlaubt die brauchbaren Werkzeuge der Mathematik zu identifizieren.\n",
    "\n",
    "Der erste Workshop in dieser Konstellation dient vor allem dem Kennenlernen, dem Vernetzen und der Identifikation von Schnittstellen. Ausgangspunkt soll sein, was die Disziplinen als ihre eigenen “Forschungsdaten” bezeichnen würden und wie sie damit “umgehen” wollen.\n",
    "\n",
    "Wir gehen davon aus, dass die Teilnehmenden aus den (Digital) Humanities und die Teilnehmenden aus der Mathematik mit gewissen Erwartungshaltungen an die jeweils andere Fachdisziplin in diesen Workshop gehen werden. Es wird daher ein Austausch auf wissenschaftlicher, praktisch-technischer und forschungs-kultureller Ebene angestrebt, der das Ziel hat, Erwartungshaltungen zu hinterfragen und (auch technisch) Schnittstellen für eine effiziente Zusammenarbeit zu schaffen.\n",
    "Ort:      20.09.22 - 21.09.22 (13 - 18 Uhr / 9-13 Uhr)\n",
    "Zeit:     Konferenzräume Henry-Ford Bau (FU Berlin) & Online\n",
    "Programm: https://www.ada.fu-berlin.de/ada-labs/dihma-lab/index.html\n",
    "Anmeldung (bis 13.09.)  https://www.ada.fu-berlin.de/ada-labs/dihma-lab/Modulbeschreibungen_DIHMa/PM-Anmeldung_DHIMA_LAB\n",
    "\n",
    "Die Teilnahme ist sowohl online also auch in Person möglich. Bei Fragen stehen wir Ihnen gern unter dihma@ada.fu-berlin.de zur Verfügung. Wir freuen uns auf den Austausch!\n",
    "\n",
    "PD.Dr. Marcus Weber (ZIB)\n",
    "Dr. Marco Reidelbach (ZIB)\n",
    "Dr. Dennis Mischke (ADA)\n",
    "-- \n",
    "Dr. Dennis Mischke\n",
    "Ada Lovelace Center for Digital Humanities\n",
    "--\n",
    "Freie Universität Berlin\n",
    "Universitätsbibliothek | Dienste für Forschung\n",
    "Garystraße 39\n",
    "14195 Berlin, Deutschland\n",
    "--\n",
    "web: www.ada.fu-berlin.de\n",
    "email: mischke@ada.fu-berlin.de\n",
    "tel: +49 30 838 58632\n",
    "twitter: @dennmis | @ADA_FU_Berlin\n",
    "\n",
    "_______________________________________________\n",
    "DHBerlin mailing list\n",
    "DHBerlin@bbaw.de\n",
    "https://mailman.bbaw.de/mailman/listinfo/dhberlin\n",
    "```"
   ]
  },
  {
   "cell_type": "markdown",
   "id": "26ca6b89",
   "metadata": {},
   "source": [
    "<img alt=\"@DIHMA.LAB\" href=\"https://slides.igada.de/2023-07-17-icfca_kassel/dihmalab.jpg\" style=\"width: 90%\"/>\n",
    "\n",
    "September 20, Freie Universität Berlin, [Modul 1 \"Mathematics meets Digital Humanities\"](https://www.ada.fu-berlin.de/ada-labs/dihma-lab/) (image source: [Tom Hanika](https://twitter.com/weakmath/status/1572225726228594691))"
   ]
  },
  {
   "cell_type": "markdown",
   "id": "8f8cac45",
   "metadata": {},
   "source": [
    "- https://fca4dh.algebra20.de/\n",
    "- https://fca4dh.algebra20.de/assets/talk-2022-09-20-DH.pdf\n",
    "- https://scm.cms.hu-berlin.de/ibi/notebooks/-/blob/master/notebooks/FCA.ipynb"
   ]
  },
  {
   "cell_type": "markdown",
   "id": "10b10e14",
   "metadata": {},
   "source": [
    "# 3. DraCor meets FCA"
   ]
  },
  {
   "cell_type": "markdown",
   "id": "d30d688b",
   "metadata": {},
   "source": [
    "\"Programmable Corpora\" @ [DraCor](https://dracor.org/)\n",
    "\n"
   ]
  },
  {
   "cell_type": "markdown",
   "id": "9b41bf0e",
   "metadata": {},
   "source": [
    "- Frank Fischer @ Freie Universität Berlin\n",
    "- used DraCor before\n",
    "- also created some notebooks (https://github.com/dracor-org/dracor-notebooks)"
   ]
  },
  {
   "cell_type": "markdown",
   "id": "b81fc6fd",
   "metadata": {},
   "source": [
    "## Requirements"
   ]
  },
  {
   "cell_type": "markdown",
   "id": "664fff87",
   "metadata": {},
   "source": [
    "### [PyDraCor](https://pypi.org/project/pydracor/)\n",
    "\n",
    "> pydracor is a Python package which provides access to the DraCor API.\n",
    "\n",
    "### [Concepts](https://pypi.org/project/concepts/)\n",
    "\n",
    "> Concepts is a simple Python implementation of Formal Concept Analysis (FCA).\n",
    "\n"
   ]
  },
  {
   "cell_type": "code",
   "execution_count": null,
   "id": "709b256b",
   "metadata": {},
   "outputs": [],
   "source": [
    "!pip install pydracor concepts"
   ]
  },
  {
   "cell_type": "markdown",
   "id": "420bf71e",
   "metadata": {},
   "source": [
    "## Selecting a Play"
   ]
  },
  {
   "cell_type": "code",
   "execution_count": null,
   "id": "1cd24a38",
   "metadata": {},
   "outputs": [],
   "source": [
    "import pydracor\n",
    "\n",
    "play = pydracor.Play(play_name = \"goethe-iphigenie-auf-tauris\")\n",
    "scenes = play.play_info()[\"segments\"]\n",
    "scenes"
   ]
  },
  {
   "cell_type": "markdown",
   "id": "0a0f6498",
   "metadata": {},
   "source": [
    "## Creating a Formal Context"
   ]
  },
  {
   "cell_type": "code",
   "execution_count": null,
   "id": "891f2b8d",
   "metadata": {},
   "outputs": [],
   "source": [
    "objects    = [str(s[\"number\"]) for s in scenes]\n",
    "attributes = sorted([c[\"id\"] for c in play.get_cast()])\n",
    "incidence  = [tuple([a in s[\"speakers\"] for a in attributes]) \n",
    "              for s in scenes]"
   ]
  },
  {
   "cell_type": "code",
   "execution_count": null,
   "id": "041e0ab3",
   "metadata": {},
   "outputs": [],
   "source": [
    "import concepts\n",
    "\n",
    "ctx = concepts.Context(objects, attributes, incidence)"
   ]
  },
  {
   "cell_type": "markdown",
   "id": "04daf66e",
   "metadata": {},
   "source": [
    "## Drawing the Lattice Diagram"
   ]
  },
  {
   "cell_type": "code",
   "execution_count": null,
   "id": "294e7f50",
   "metadata": {},
   "outputs": [],
   "source": [
    "ctx.lattice.graphviz()"
   ]
  },
  {
   "cell_type": "markdown",
   "id": "9435822c",
   "metadata": {},
   "source": [
    "# 4. FCA meets the 70s"
   ]
  },
  {
   "cell_type": "markdown",
   "id": "88a23db4",
   "metadata": {},
   "source": [
    "![Pfister (2000)](https://slides.igada.de/2023-07-17-icfca_kassel/pfister_2000.png)\n",
    "\n",
    "Manfred Pfister (2000): Das Drama. Theorie und Analyse. In: Klaus W. Hempfer und Wolfgang Weiß (eds.). 10. Auflage. Bd. 3. *Information und Synthese*. München:\n",
    "Wilhelm Fink Verlag."
   ]
  },
  {
   "cell_type": "markdown",
   "id": "d99bb534",
   "metadata": {},
   "source": [
    "![Brainerd & Neufeldt (1974)](https://slides.igada.de/2023-07-17-icfca_kassel/brainerd_neufeldt_1974_1.png)\n",
    "\n",
    "B. Brainerd and V. Neufeldt (1974): <a href=\"https://doi.org/10.1016/0304-422X(74)90013-8\">On Marcus' method for the analysis of the strategy of a play</a>, <em>Poetics 10</em> 31-4."
   ]
  },
  {
   "cell_type": "markdown",
   "id": "eec1b0b3",
   "metadata": {},
   "source": [
    "![Brainerd & Neufeldt (1974)](https://slides.igada.de/2023-07-17-icfca_kassel/brainerd_neufeldt_1974_2.png)\n",
    "\n",
    "B. Brainerd and V. Neufeldt (1974): <a href=\"https://doi.org/10.1016/0304-422X(74)90013-8\">On Marcus' method for the analysis of the strategy of a play</a>, <em>Poetics 10</em> 31-4."
   ]
  },
  {
   "cell_type": "markdown",
   "id": "397b5a20",
   "metadata": {},
   "source": [
    "## Solomon Marcus (1973): \"Mathematische Methoden im Theaterstudium\". In: *Mathematische Poetik.* Frankfurt: Athenäum.\n",
    "\n",
    "more than 80 pages with sections titled as follows (a selection):\n",
    "\n",
    "```\n",
    "3. Die Bevölkerungsdichte einer Szene\n",
    "4. Arten der Beziehungen zwischen den Charakteren\n",
    "5. Szenischer Abstand und szenischer Durchmesser\n",
    "7. Eine Hammingdistanz\n",
    "8. Ein Maß für die szenische Nähe\n",
    "10. Eine Rangordnung der Szenen eines Stückes\n",
    "17. Kerne eines Stückes\n",
    "33. Die Rangordnung der Charaktere nach Jansen\n",
    "34. Ein vollständiges mathematisches Dramenmodell\n",
    "36. Korrelationen von Orten und Charakteren\n",
    "37. Irreduzible Konfigurationen\n",
    "38. Domination zwischen Konfigurationen\n",
    "```\n",
    "\n",
    "<!--\n",
    "1. Einige Vorläufer\n",
    "2. Ein origineller Zuschauer\n",
    "3. Die Bevölkerungsdichte einer Szene\n",
    "4. Arten der Beziehungen zwischen den Charakteren\n",
    "5. Szenischer Abstand und szenischer Durchmesser\n",
    "6. Ausmaß der szenischen Gegenüberstellung\n",
    "7. Eine Hammingdistanz\n",
    "8. Ein Maß für die szenische Nähe\n",
    "9. Ein Beispiel anhand des \"Verlorenen Briefes\"\n",
    "10. Eine Rangordnung der Szenen eines Stückes\n",
    "11. Eine neue Betrachtung des Parameters γ\n",
    "12. Anzahl der Szenen, in denen nur ein einziger Charakter auftritt\n",
    "13. Ein neues Maß für die Beziehungen zwischen den Charakteren\n",
    "14. Die Nähe der Charaktere im \"Verlorenen Brief\"\n",
    "15. Einige Bedeutungen\n",
    "16. Eine Übertragung der Methode auf alle möglichen Konfigurationen von Charakteren\n",
    "17. Kerne eines Stückes\n",
    "18. Kerne im \"Verlorenen Brief\"\n",
    "19. Kerne in \"Letzte Nachrichten\" und \"Starke Seelen\"\n",
    "20. Eine Analyse der Kerne in Schillers \"Räubern\"\n",
    "21. Einige allgemeine Sätze über Kerne\n",
    "22. Kurzer Überblick über die Resultate von Polti und Souriau\n",
    "23. Die geometrischen Schemen von Ginestier\n",
    "24. Dreieckssituationen\n",
    "25. Viereckssitutionen\n",
    "26. Diagonalgeometrie\n",
    "27. Situationen mit halboffener Geometrie\n",
    "28. Kombinationen geschlossener Geometrien\n",
    "29. Geometrien zweiten Grades\n",
    "30. Die dramatische Form bei Steen Jansen\n",
    "31. Textliche Ebene und szenische Ebene\n",
    "32. Die Grenze zwischen zwei Situationen\n",
    "33. Die Rangordnung der Charaktere nach Jansen\n",
    "34. Ein vollständiges mathematisches Dramenmodell\n",
    "35. Erläuterungen des Modells\n",
    "36. Korrelationen von Orten und Charakteren\n",
    "37. Irreduzible Konfigurationen\n",
    "38. Domination zwischen Konfigurationen\n",
    "39. Leere Konfigurationen\n",
    "40. Die einem Drame zugeordnete Sprache\n",
    "\n",
    "-->"
   ]
  },
  {
   "cell_type": "markdown",
   "id": "3717b5e1",
   "metadata": {},
   "source": [
    "<a href=\"https://xkcd.com/1256\">\n",
    "    <img alt=\"XKCD: Questions?\" src=\"https://imgs.xkcd.com/comics/questions_2x.png\"/ style=\"width:80%; margin-bottom: 0px\">\n",
    "</a>\n",
    "\n",
    "<small><a href=\"https://xkcd.com/1256\">XKCD, Randall Munroe</a> / CC BY-NC 2.5</small>\n",
    "\n",
    "<style type=\"text/css\">\n",
    "    li.web::marker {\n",
    "    content: \"🌐 \";\n",
    "}\n",
    "li.doc::marker {\n",
    "    content: \"🗎 \";\n",
    "}\n",
    "li.mail::marker {\n",
    "    content: \"✉ \";\n",
    "}\n",
    "li.clap::marker {\n",
    "    content: \"👏 \";\n",
    "}\n",
    "</style>\n",
    "\n",
    "<ul>\n",
    "    <li class=\"clap\">Tom Hanika</li>\n",
    "    <li class=\"mail\"><a href=\"mailto:robert.jaeschke@hu-berlin.de\">robert.jaeschke@hu-berlin.de</a></li>\n",
    "    <li class=\"web\"><a href=\"https://hu.berlin/RJ\">https://hu.berlin/RJ</a></li>\n",
    "</ul>"
   ]
  }
 ],
 "metadata": {
  "language_info": {
   "name": "python",
   "pygments_lexer": "ipython3"
  }
 },
 "nbformat": 4,
 "nbformat_minor": 5
}
