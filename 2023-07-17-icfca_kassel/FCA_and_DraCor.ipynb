{
 "cells": [
  {
   "cell_type": "markdown",
   "id": "f83446d9",
   "metadata": {},
   "source": [
    "# FCA & DraCor\n",
    "\n",
    "[Robert Jäschke](https://amor.cms.hu-berlin.de/~jaeschkr/)\n",
    "\n",
    "Humboldt-Universität zu Berlin & L3S Research Center Hannover (Germany)\n",
    "\n",
    "July 17, 2023\n",
    "\n",
    "\n",
    "<br/><p style=\"font-size:0.75em;\">\n",
    "<a rel=\"license\"\n",
    "href=\"http://creativecommons.org/licenses/by/4.0/\"><img alt=\"Creative\n",
    "Commons License\" style=\"border-width:0\"\n",
    "src=\"https://i.creativecommons.org/l/by/4.0/88x31.png\" /></a> <br/>\n",
    "This work is licensed under a <a rel=\"license\" href=\"http://creativecommons.org/licenses/by/4.0/\">Creative Commons Attribution 4.0 International License</a>.\n",
    "</p>"
   ]
  },
  {
   "cell_type": "markdown",
   "id": "ea455548",
   "metadata": {},
   "source": [
    "# Agenda\n",
    "\n",
    "1. Background\n",
    "2. Mathematics meets Digital Humanities\n",
    "3. FCA meets DraCor"
   ]
  },
  {
   "cell_type": "markdown",
   "id": "56ca6499",
   "metadata": {},
   "source": [
    "# Background"
   ]
  },
  {
   "cell_type": "markdown",
   "id": "8706fcc4",
   "metadata": {},
   "source": [
    "![my career](https://slides.igada.de/2020-02-25-ub_frankfurt/images/antrittsvorlesung.png)"
   ]
  },
  {
   "cell_type": "markdown",
   "id": "a5a99a21",
   "metadata": {},
   "source": [
    "https://scm.cms.hu-berlin.de/explore/projects/topics/jupyter\n",
    "\n",
    "![notebook repos](https://slides.igada.de/2023-07-17-icfca_kassel/notebooks_repo.png)"
   ]
  },
  {
   "cell_type": "markdown",
   "id": "5ca632a1",
   "metadata": {},
   "source": [
    "- learning Python: https://greenteapress.com/thinkpython2/\n",
    "- learning statistics: https://greenteapress.com/thinkstats2/\n",
    "- distance learning: interactive notebooks for self-studying\n",
    "- *computational essays* as assessment (examples: https://uio-ccse.github.io/computational-essay-showroom/)\n",
    "- collection of notebooks with many different examples: https://scm.cms.hu-berlin.de/ibi/notebooks"
   ]
  },
  {
   "cell_type": "markdown",
   "id": "fe76d219",
   "metadata": {},
   "source": [
    "![AI-SKILLS project logo](https://ai-skills.hu-berlin.de/images/logo/logo-netzwerk.png)\n",
    "\n",
    "[Anwendungsorientierte Infrastruktur für KI-Communities in Lehr-Lern-Settings](https://ai-skills.hu-berlin.de/)"
   ]
  },
  {
   "cell_type": "markdown",
   "id": "256954ca",
   "metadata": {},
   "source": [
    "# Mathematics meets Digital Humanities"
   ]
  },
  {
   "cell_type": "markdown",
   "id": "26ca6b89",
   "metadata": {},
   "source": [
    "[DIHMA.LAB/MaRDI \"Digital Humanities meet Mathematics\"](https://www.ada.fu-berlin.de/ada-labs/dihma-lab/)\n",
    "\n",
    "September 20 & 21, 2021, Freie Universität Berlin"
   ]
  }
 ],
 "metadata": {
  "language_info": {
   "name": "python",
   "pygments_lexer": "ipython3"
  }
 },
 "nbformat": 4,
 "nbformat_minor": 5
}
