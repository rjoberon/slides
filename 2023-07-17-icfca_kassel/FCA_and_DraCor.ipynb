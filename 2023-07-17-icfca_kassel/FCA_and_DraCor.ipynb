{
 "cells": [
  {
   "cell_type": "markdown",
   "id": "f83446d9",
   "metadata": {},
   "source": [
    "# FCA & DraCor\n",
    "\n",
    "[Robert Jäschke](https://amor.cms.hu-berlin.de/~jaeschkr/)\n",
    "\n",
    "Humboldt-Universität zu Berlin & L3S Research Center Hannover (Germany)\n",
    "\n",
    "July 17, 2023\n",
    "\n",
    "\n",
    "<br/><p style=\"font-size:0.75em;\">\n",
    "<a rel=\"license\"\n",
    "href=\"http://creativecommons.org/licenses/by/4.0/\"><img alt=\"Creative\n",
    "Commons License\" style=\"border-width:0\"\n",
    "src=\"https://i.creativecommons.org/l/by/4.0/88x31.png\" /></a> <br/>\n",
    "This work is licensed under a <a rel=\"license\" href=\"http://creativecommons.org/licenses/by/4.0/\">Creative Commons Attribution 4.0 International License</a>.\n",
    "</p>"
   ]
  },
  {
   "cell_type": "markdown",
   "id": "ea455548",
   "metadata": {},
   "source": [
    "# Agenda\n",
    "\n",
    "1. Background\n",
    "2. Mathematics meets Digital Humanities\n",
    "3. DraCor meets FCA \n",
    "4. FCA meets the 70s"
   ]
  },
  {
   "cell_type": "markdown",
   "id": "56ca6499",
   "metadata": {},
   "source": [
    "# 1. Background"
   ]
  },
  {
   "cell_type": "markdown",
   "id": "8706fcc4",
   "metadata": {},
   "source": [
    "![my career](https://slides.igada.de/2020-02-25-ub_frankfurt/images/antrittsvorlesung.png)"
   ]
  },
  {
   "cell_type": "markdown",
   "id": "a5a99a21",
   "metadata": {},
   "source": [
    "![notebook repos](https://slides.igada.de/2023-07-17-icfca_kassel/notebooks_repo.png)\n",
    "\n",
    "https://scm.cms.hu-berlin.de/explore/projects/topics/jupyter"
   ]
  },
  {
   "cell_type": "markdown",
   "id": "5ca632a1",
   "metadata": {},
   "source": [
    "- learning Python: https://greenteapress.com/thinkpython2/\n",
    "- learning statistics: https://greenteapress.com/thinkstats2/\n",
    "- distance learning: interactive notebooks for self-studying\n",
    "- *computational essays* as assessment (examples: https://uio-ccse.github.io/computational-essay-showroom/)\n",
    "- collection of notebooks with many different examples: https://scm.cms.hu-berlin.de/ibi/notebooks"
   ]
  },
  {
   "cell_type": "markdown",
   "id": "fe76d219",
   "metadata": {},
   "source": [
    "![AI-SKILLS project logo](https://ai-skills.hu-berlin.de/images/logo/logo-netzwerk.png)\n",
    "\n",
    "[Anwendungsorientierte Infrastruktur für KI-Communities in Lehr-Lern-Settings](https://ai-skills.hu-berlin.de/)"
   ]
  },
  {
   "cell_type": "markdown",
   "id": "256954ca",
   "metadata": {},
   "source": [
    "# 2. Mathematics meets Digital Humanities"
   ]
  },
  {
   "cell_type": "markdown",
   "id": "c3554e58",
   "metadata": {},
   "source": [
    "```\n",
    "From: Dennis Mischke <mischke@ada.fu-berlin.de>\n",
    "To: DHBerlin@bbaw.de\n",
    "Date: Fri, 19 Aug 2022 13:24:36 +0200\n",
    "Subject: [DH-Berlin] Einladung zum DiHMa.LAB | MaRDi „Digital Humanities meet Mathematics“ am 20.09. & 21.09.\n",
    "\n",
    "Liebe Kolleginnen und Kollegen, Liebe DHBerlin-Liste,\n",
    "\n",
    "Das DiHMA.LAB “Digital Humanities meet Mathematics” des »ADA Lovelace Centers for Digital Humanties« der FU Berlin lädt gemeinsam mit MaRDI, der Forschungsdateninitiative der Mathematik, zu einem Workshop in Berlin ein.\n",
    "\n",
    "„Digital Humanities meet Mathematics“\n",
    "20.09.2022 - 21.09.2022 13 - 18 Uhr & 9-13 Uhr\n",
    "\n",
    "Mit digitalen Methoden entwickelte Forschungsfragen aus Philosophie, sowie den Geistes-, Kultur- und Geschichtswissenschaften sind komplex. Die Herangehensweise an die Beantwortung der Fragen setzt oft eine sorgfältige Planung des Forschungsprozesses voraus, die auch die Auswahl der zu untersuchenden Objekte beinhaltet. Auf verschiedenen Ebenen (Aussagenlogik, Experimental - und Forschungsdesign, Operationalisierung, Mustererkennung, Graphentheorie ...) tangieren die Planungen und Durchführungen Themen, die auch in der modernen Mathematik zu verorten sind. Es ist daher wichtig, eine Kommunikationsform zur Mathematik zu finden, die es für Nicht-Mathematiker:innen erlaubt die brauchbaren Werkzeuge der Mathematik zu identifizieren.\n",
    "\n",
    "Der erste Workshop in dieser Konstellation dient vor allem dem Kennenlernen, dem Vernetzen und der Identifikation von Schnittstellen. Ausgangspunkt soll sein, was die Disziplinen als ihre eigenen “Forschungsdaten” bezeichnen würden und wie sie damit “umgehen” wollen.\n",
    "\n",
    "Wir gehen davon aus, dass die Teilnehmenden aus den (Digital) Humanities und die Teilnehmenden aus der Mathematik mit gewissen Erwartungshaltungen an die jeweils andere Fachdisziplin in diesen Workshop gehen werden. Es wird daher ein Austausch auf wissenschaftlicher, praktisch-technischer und forschungs-kultureller Ebene angestrebt, der das Ziel hat, Erwartungshaltungen zu hinterfragen und (auch technisch) Schnittstellen für eine effiziente Zusammenarbeit zu schaffen.\n",
    "Ort:      20.09.22 - 21.09.22 (13 - 18 Uhr / 9-13 Uhr)\n",
    "Zeit:     Konferenzräume Henry-Ford Bau (FU Berlin) & Online\n",
    "Programm: https://www.ada.fu-berlin.de/ada-labs/dihma-lab/index.html\n",
    "Anmeldung (bis 13.09.)  https://www.ada.fu-berlin.de/ada-labs/dihma-lab/Modulbeschreibungen_DIHMa/PM-Anmeldung_DHIMA_LAB\n",
    "\n",
    "Die Teilnahme ist sowohl online also auch in Person möglich. Bei Fragen stehen wir Ihnen gern unter dihma@ada.fu-berlin.de zur Verfügung. Wir freuen uns auf den Austausch!\n",
    "\n",
    "PD.Dr. Marcus Weber (ZIB)\n",
    "Dr. Marco Reidelbach (ZIB)\n",
    "Dr. Dennis Mischke (ADA)\n",
    "-- \n",
    "Dr. Dennis Mischke\n",
    "Ada Lovelace Center for Digital Humanities\n",
    "--\n",
    "Freie Universität Berlin\n",
    "Universitätsbibliothek | Dienste für Forschung\n",
    "Garystraße 39\n",
    "14195 Berlin, Deutschland\n",
    "--\n",
    "web: www.ada.fu-berlin.de\n",
    "email: mischke@ada.fu-berlin.de\n",
    "tel: +49 30 838 58632\n",
    "twitter: @dennmis | @ADA_FU_Berlin\n",
    "\n",
    "_______________________________________________\n",
    "DHBerlin mailing list\n",
    "DHBerlin@bbaw.de\n",
    "https://mailman.bbaw.de/mailman/listinfo/dhberlin\n",
    "```"
   ]
  },
  {
   "cell_type": "markdown",
   "id": "26ca6b89",
   "metadata": {},
   "source": [
    "![@DIHMA.LAB](https://slides.igada.de/2023-07-17-icfca_kassel/dihmalab.jpg)\n",
    "\n",
    "September 20, Freie Universität Berlin, [Modul 1 \"Mathematics meets Digital Humanities\"](https://www.ada.fu-berlin.de/ada-labs/dihma-lab/) (image source: [Tom Hanika](https://twitter.com/weakmath/status/1572225726228594691))"
   ]
  },
  {
   "cell_type": "markdown",
   "id": "ea541615",
   "metadata": {},
   "source": [
    "- https://fca4dh.algebra20.de/\n",
    "- https://fca4dh.algebra20.de/assets/talk-2022-09-20-DH.pdf\n",
    "- https://scm.cms.hu-berlin.de/ibi/notebooks/-/blob/master/notebooks/FCA.ipynb"
   ]
  },
  {
   "cell_type": "markdown",
   "id": "0209896a",
   "metadata": {},
   "source": [
    "# 3. DraCor meets FCA"
   ]
  },
  {
   "cell_type": "markdown",
   "id": "c1d3c459",
   "metadata": {},
   "source": [
    "\"Programmable Corpora\" @ [DraCor](https://dracor.org/)\n",
    "\n"
   ]
  },
  {
   "cell_type": "markdown",
   "id": "f0c4caf4",
   "metadata": {},
   "source": [
    "- Frank Fischer @ Freie Universität Berlin\n",
    "- used DraCor before\n",
    "- also created some notebooks (https://github.com/dracor-org/dracor-notebooks)"
   ]
  },
  {
   "cell_type": "markdown",
   "id": "6e6b247d",
   "metadata": {},
   "source": [
    "## Requirements"
   ]
  },
  {
   "cell_type": "markdown",
   "id": "88899f65",
   "metadata": {},
   "source": [
    "### [PyDraCor](https://pypi.org/project/pydracor/)\n",
    "\n",
    "> pydracor is a Python package which provides access to the DraCor API.\n",
    "\n",
    "### [Concepts](https://pypi.org/project/concepts/)\n",
    "\n",
    "> Concepts is a simple Python implementation of Formal Concept Analysis (FCA).\n",
    "\n"
   ]
  },
  {
   "cell_type": "code",
   "execution_count": null,
   "id": "0e5ceaf0",
   "metadata": {},
   "outputs": [],
   "source": [
    "!pip install pydracor concepts"
   ]
  },
  {
   "cell_type": "markdown",
   "id": "3d715d66",
   "metadata": {},
   "source": [
    "## Selecting a Play"
   ]
  },
  {
   "cell_type": "code",
   "execution_count": null,
   "id": "874d3207",
   "metadata": {},
   "outputs": [],
   "source": [
    "import pydracor\n",
    "\n",
    "play = pydracor.Play(play_name = \"goethe-iphigenie-auf-tauris\")\n",
    "scenes = play.play_info()[\"segments\"]\n",
    "scenes"
   ]
  },
  {
   "cell_type": "markdown",
   "id": "9012a423",
   "metadata": {},
   "source": [
    "## Creating a Formal Context"
   ]
  },
  {
   "cell_type": "code",
   "execution_count": null,
   "id": "146a1a63",
   "metadata": {},
   "outputs": [],
   "source": [
    "objects    = [str(s[\"number\"]) for s in scenes]\n",
    "attributes = sorted([c[\"id\"] for c in play.get_cast()])\n",
    "incidence  = [tuple([a in s[\"speakers\"] for a in attributes]) \n",
    "              for s in scenes]"
   ]
  },
  {
   "cell_type": "code",
   "execution_count": null,
   "id": "eeb596ec",
   "metadata": {},
   "outputs": [],
   "source": [
    "import concepts\n",
    "\n",
    "ctx = concepts.Context(objects, attributes, incidence)"
   ]
  },
  {
   "cell_type": "markdown",
   "id": "26f13dd2",
   "metadata": {},
   "source": [
    "## Drawing the Lattice Diagram"
   ]
  },
  {
   "cell_type": "code",
   "execution_count": null,
   "id": "4119d3c0",
   "metadata": {},
   "outputs": [],
   "source": [
    "ctx.lattice.graphviz()"
   ]
  },
  {
   "cell_type": "markdown",
   "id": "9f3c92a5",
   "metadata": {},
   "source": [
    "# 4. FCA meets the 70s"
   ]
  },
  {
   "cell_type": "markdown",
   "id": "353d8940",
   "metadata": {},
   "source": [
    "![Brainerd & Neufeldt (1974)](https://slides.igada.de/2023-07-17-icfca_kassel/brainerd_neufeldt_1974_1.png)\n",
    "\n"
   ]
  },
  {
   "cell_type": "markdown",
   "id": "6aefa4cd",
   "metadata": {},
   "source": [
    "<a href=\"https://xkcd.com/1256\">\n",
    "    <img alt=\"XKCD: Questions?\" src=\"https://imgs.xkcd.com/comics/questions_2x.png\"/ style=\"width=80%\">\n",
    "</a>\n",
    "\n",
    "<small><a href=\"https://xkcd.com/1256\">XKCD, Randall Munroe</a> / CC BY-NC 2.5</small>\n",
    "\n",
    "<style type=\"text/css\">\n",
    "    li.web::marker {\n",
    "    content: \"🌐 \";\n",
    "}\n",
    "li.doc::marker {\n",
    "    content: \"🗎 \";\n",
    "}\n",
    "li.mail::marker {\n",
    "    content: \"✉ \";\n",
    "}\n",
    "li.clap::marker {\n",
    "    content: \"👏 \";\n",
    "}\n",
    "</style>\n",
    "\n",
    "<ul>\n",
    "  <li class=\"clap\">Tom Hanika</li>\n",
    "</ul>\n",
    "- 👏 Tom Hanika\n",
    "- ✉ robert.jaeschke@hu-berlin.de\n",
    "- 🌐 https://hu.berlin/RJ"
   ]
  }
 ],
 "metadata": {
  "language_info": {
   "name": "python",
   "pygments_lexer": "ipython3"
  }
 },
 "nbformat": 4,
 "nbformat_minor": 5
}
