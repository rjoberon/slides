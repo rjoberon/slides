{
 "cells": [
  {
   "cell_type": "markdown",
   "id": "f83446d9",
   "metadata": {},
   "source": [
    "# FCA & DraCor\n",
    "\n",
    "[Robert Jäschke](https://amor.cms.hu-berlin.de/~jaeschkr/)\n",
    "\n",
    "Humboldt-Universität zu Berlin & L3S Research Center Hannover (Germany)\n",
    "\n",
    "July 17, 2023\n",
    "\n",
    "\n",
    "<br/><p style=\"font-size:0.75em;\">\n",
    "<a rel=\"license\"\n",
    "href=\"http://creativecommons.org/licenses/by/4.0/\"><img alt=\"Creative\n",
    "Commons License\" style=\"border-width:0\"\n",
    "src=\"https://i.creativecommons.org/l/by/4.0/88x31.png\" /></a> <br/>\n",
    "This work is licensed under a <a rel=\"license\" href=\"http://creativecommons.org/licenses/by/4.0/\">Creative Commons Attribution 4.0 International License</a>.\n",
    "</p>"
   ]
  },
  {
   "cell_type": "markdown",
   "id": "ea455548",
   "metadata": {},
   "source": [
    "# Agenda\n",
    "\n",
    "1. Background"
   ]
  },
  {
   "cell_type": "markdown",
   "id": "56ca6499",
   "metadata": {},
   "source": [
    "# Background"
   ]
  },
  {
   "cell_type": "markdown",
   "id": "8706fcc4",
   "metadata": {},
   "source": [
    "![my career](https://slides.igada.de/2020-02-25-ub_frankfurt/images/antrittsvorlesung.png)"
   ]
  },
  {
   "cell_type": "markdown",
   "id": "a5a99a21",
   "metadata": {},
   "source": [
    "- jupyter / notebooks allgemein in der Lehre\n",
    "\n",
    "https://scm.cms.hu-berlin.de/ibi/notebooks"
   ]
  },
  {
   "cell_type": "markdown",
   "id": "26ca6b89",
   "metadata": {},
   "source": [
    "- AI-SKILLS-Projekt\n",
    "\n",
    "- workshop"
   ]
  }
 ],
 "metadata": {
  "language_info": {
   "name": "python",
   "pygments_lexer": "ipython3"
  }
 },
 "nbformat": 4,
 "nbformat_minor": 5
}
